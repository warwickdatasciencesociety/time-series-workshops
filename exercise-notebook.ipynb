{
 "cells": [
  {
   "cell_type": "markdown",
   "metadata": {},
   "source": [
    "<a href=\"https://colab.research.google.com/github/warwickdatasciencesociety/time-series-workshops/blob/main/exercise-notebook.ipynb\" target=\"_parent\"><img src=\"https://colab.research.google.com/assets/colab-badge.svg\" alt=\"Open In Colab\"/></a>"
   ]
  },
  {
   "cell_type": "code",
   "execution_count": null,
   "metadata": {
    "slideshow": {
     "slide_type": "skip"
    }
   },
   "outputs": [],
   "source": [
    "import pandas as pd\n",
    "import numpy as np\n",
    "import matplotlib.pyplot as plt\n",
    "import matplotlib as mpl\n",
    "import seaborn as sns\n",
    "import statsmodels.api as sm\n",
    "from statsmodels.tsa.arima.model import ARIMA\n",
    "from scipy.stats import norm\n",
    "from helper import revert_diff\n",
    "import pmdarima as pmd\n",
    "import pandas_datareader.data as web\n",
    "from statsmodels.tools.sm_exceptions import ValueWarning, HessianInversionWarning, ConvergenceWarning\n",
    "import warnings\n",
    "\n",
    "\n",
    "\"\"\"\n",
    "To convert to slides run:\n",
    "\n",
    "jupyter nbconvert demo-notebook.ipynb --to slides --no-prompt --TagRemovePreprocessor.remove_input_tags={\\\"to_remove\\\"} --post serve\n",
    "\"\"\"\n",
    "\n",
    "sns.set_theme()\n",
    "mpl.rcParams['figure.figsize'] = (10, 5)\n",
    "mpl.rcParams[\"figure.dpi\"] = 200\n",
    "\n",
    "warnings.filterwarnings('ignore', category=ValueWarning)\n",
    "warnings.filterwarnings('ignore', category=HessianInversionWarning)\n",
    "warnings.filterwarnings('ignore', category=ConvergenceWarning)"
   ]
  },
  {
   "cell_type": "markdown",
   "metadata": {
    "slideshow": {
     "slide_type": "slide"
    }
   },
   "source": [
    "# Introduction to Time-Series Modelling and Forecasting"
   ]
  },
  {
   "cell_type": "markdown",
   "metadata": {
    "slideshow": {
     "slide_type": "slide"
    }
   },
   "source": [
    "# What is a linear regression?\n",
    "\n",
    "## Simple linear regression\n",
    "\n",
    "We observe the values $(x_1, x_2, x_3, ..., x_n)$ (predictors) and assume the following linear relationship between $X$ and $Y$:\n",
    "$$ Y = \\beta_0 + \\beta_1X + \\epsilon$$\n",
    "\n",
    "Where $\\epsilon$ is an error term, $\\epsilon \\sim N(0,1)$"
   ]
  },
  {
   "cell_type": "code",
   "execution_count": null,
   "metadata": {
    "slideshow": {
     "slide_type": "subslide"
    },
    "tags": [
     "to_remove"
    ]
   },
   "outputs": [],
   "source": [
    "# Simple linear regression\n",
    "x = np.linspace(0, 12, 15)\n",
    "error = norm.rvs(size=len(x), scale=2)\n",
    "y = 10 + 1.5 * x + error\n",
    "\n",
    "model = sm.OLS(y, sm.add_constant(x))\n",
    "model_fit = model.fit()\n",
    "\n",
    "fitted = model_fit.fittedvalues\n",
    "fig, ax = plt.subplots()\n",
    "ax.scatter(x, y, label=\"Actual response $y_i$\", color=\"red\")\n",
    "ax.scatter(x, fitted, label=\"Predictions $f(x_i)$\", marker=\"s\", color=\"green\")\n",
    "ax.plot(x, fitted, color=\"black\", label=\"Regression line $f(x) = \\\\beta_1x + \\\\beta_0$\")\n",
    "ax.vlines(x, fitted, y, color=\"grey\", linestyle=\"dotted\", \n",
    "    label=\"Residuals $y_i - f(x_i)$\")\n",
    "ax.set_xlabel(\"$x$\")\n",
    "ax.set_ylabel(\"$y$\")\n",
    "ax.set_title(\"Linear Regression\")\n",
    "ax.legend()\n",
    "plt.show()"
   ]
  },
  {
   "cell_type": "markdown",
   "metadata": {
    "slideshow": {
     "slide_type": "slide"
    }
   },
   "source": [
    "The simple linear regression model can be easily extend to a a multiple linear regression model where we have more than one predictor variable.\n",
    "\n",
    "## Multiple linear regression\n",
    "\n",
    "There are $p$ predictor variables $X_1, X_2, \\ldots, X_p$ and we assume the following model:\n",
    "$$Y = \\beta_0 + \\beta_1X_1 + \\beta_2X_2 + \\ldots + \\beta_p X_p + \\epsilon$$\n",
    "\n",
    "Where $\\epsilon \\sim N(0,1)$. \n",
    "\n",
    "## Key assumptions:\n",
    "- **Linearity**: The relationship between $X$ and $Y$ is linear.\n",
    "- **Homoscedasticity**: The variance of residual is the same for any value of $X$.\n",
    "- **Independence**: The residual terms are independent of each other.\n",
    "- **Normality**: The residuals are normally distributed with mean 0."
   ]
  },
  {
   "cell_type": "markdown",
   "metadata": {
    "slideshow": {
     "slide_type": "slide"
    }
   },
   "source": [
    "# How to asses the model fit?\n",
    "\n",
    "## Diagnostic plots\n",
    "\n",
    "To check if the model fits well and the assumptions of normality and homoscedasticity hold it is helpful to look at the plot of residuals vs. fitted values. Let's look at the following examples where we assume the simple linear model $Y = \\beta_0 + \\beta_1X + \\epsilon$\n",
    "\n",
    "1. $Y = 10 + 5X + \\epsilon$\n",
    "2. $Y = 10 + 1.5X + 2X^2 + \\epsilon$\n",
    "3. $Y = 10 + X + \\epsilon \\cdot X$"
   ]
  },
  {
   "cell_type": "code",
   "execution_count": null,
   "metadata": {
    "slideshow": {
     "slide_type": "skip"
    }
   },
   "outputs": [],
   "source": [
    "def plot_residuals(fitted, resid, ax, **args):\n",
    "    sns.residplot(ax=ax, x=fitted, y=resid, **args)\n",
    "    ax.set_title(\"Residuals vs. Fitted values\")\n",
    "    ax.set_xlabel(\"Fitted values\")\n",
    "    ax.set_ylabel(\"Residuals\")\n",
    "    return ax\n",
    "\n",
    "def plot_regression_scatter(mod, x, y, ax, **args):\n",
    "    ax.plot(x, mod.predict(sm.add_constant(x)), color='black')\n",
    "    ax.scatter(x, y, **args)\n",
    "    ax.set_xlabel(\"x\")\n",
    "    ax.set_ylabel(\"y\")\n",
    "    ax.set_title(\"Regression\")\n",
    "    return ax\n",
    "\n",
    "def plot_regression_and_fitted(model, x, y, **args):\n",
    "    fig, ax = plt.subplots(1, 2, figsize = (10, 5))\n",
    "    plot_regression_scatter(model, x, y, ax=ax[0], **args)\n",
    "    plot_residuals(model.fittedvalues, model.resid, ax=ax[1], **args)\n",
    "    plt.show()"
   ]
  },
  {
   "cell_type": "code",
   "execution_count": null,
   "metadata": {
    "slideshow": {
     "slide_type": "subslide"
    }
   },
   "outputs": [],
   "source": [
    "# Residuals vs. Fitted\n",
    "x = np.linspace(0, 12, 50)\n",
    "error = norm.rvs(size=len(x), scale=5)\n",
    "y = [None] * 3\n",
    "y[0] = 10 + 5 * x + 2 + error  # good example\n",
    "y[1] = 10 + 1.5 * x + 2*x**2 + error  # quadratic relationship\n",
    "y[2] = 10 + x + error * x  # heteroscedasticity\n",
    "\n",
    "mods = [sm.OLS(y[i], sm.add_constant(x)).fit() for i in range(3)]"
   ]
  },
  {
   "cell_type": "markdown",
   "metadata": {
    "slideshow": {
     "slide_type": "subslide"
    }
   },
   "source": [
    "### Good example: $Y = 10 + 5X + \\epsilon$"
   ]
  },
  {
   "cell_type": "code",
   "execution_count": null,
   "metadata": {
    "scrolled": true,
    "slideshow": {
     "slide_type": "fragment"
    },
    "tags": [
     "to_remove"
    ]
   },
   "outputs": [],
   "source": [
    "plot_regression_and_fitted(mods[0], x, y[0], color=\"C0\")"
   ]
  },
  {
   "cell_type": "markdown",
   "metadata": {
    "slideshow": {
     "slide_type": "subslide"
    }
   },
   "source": [
    "### Bad example - clear relationship: $Y = 10 + 1.5X + 2X^2 + \\epsilon$"
   ]
  },
  {
   "cell_type": "code",
   "execution_count": null,
   "metadata": {
    "slideshow": {
     "slide_type": "fragment"
    },
    "tags": [
     "to_remove"
    ]
   },
   "outputs": [],
   "source": [
    "plot_regression_and_fitted(mods[1], x, y[1], color=\"C1\")"
   ]
  },
  {
   "cell_type": "markdown",
   "metadata": {
    "slideshow": {
     "slide_type": "subslide"
    }
   },
   "source": [
    "### Bad example - heteroscedasticity: $Y = 10 + X + \\epsilon \\cdot X$"
   ]
  },
  {
   "cell_type": "code",
   "execution_count": null,
   "metadata": {
    "slideshow": {
     "slide_type": "fragment"
    },
    "tags": [
     "to_remove"
    ]
   },
   "outputs": [],
   "source": [
    "plot_regression_and_fitted(mods[2], x, y[2], color=\"C2\")"
   ]
  },
  {
   "cell_type": "markdown",
   "metadata": {
    "slideshow": {
     "slide_type": "slide"
    }
   },
   "source": [
    "## Model Fit statistics\n",
    "\n",
    "### Coefficient of determination R^2 \n",
    "\n",
    "$R^2$ is a statistic that will give some information about the goodness of fit of a model. It is the proportion of the variation in the dependent variable that is predictable from the independent variable(s).\n",
    "\n",
    "An $R^2$ of 1 indicates that the regression predictions perfectly fit the data.\n",
    "\n",
    "$$R^2 = \\frac{\\text{RegrSS}}{\\text{TotalSS}}=  1 - \\frac{\\text{ResidSS}}{\\text{TotalSS}}$$\n",
    "\n",
    "$$\\text{TotalSS} = \\sum_i(y_i - \\bar{y})^2$$\n",
    "$$\\text{ResidSS} = \\sum_i(y_i - f_i)^2$$\n",
    "$$\\text{RegrSS} = \\sum_i(f_i - \\bar{y})^2$$"
   ]
  },
  {
   "cell_type": "code",
   "execution_count": null,
   "metadata": {
    "slideshow": {
     "slide_type": "subslide"
    }
   },
   "outputs": [],
   "source": [
    "for i in range(3):\n",
    "    print(\"R-squared of model %s : %f\" % (i + 1, mods[i].rsquared))"
   ]
  },
  {
   "cell_type": "markdown",
   "metadata": {
    "slideshow": {
     "slide_type": "slide"
    }
   },
   "source": [
    "# Regression meets Time Series\n",
    "\n",
    "Suppose we observe the values $y_1, \\ldots, y_t$ sequentially in time. In this scenerio this is the only data that we have, there are no other \"predictor\" variables. Can we say something about the value of $y_{t+1}$ given all the past observations $y_1, \\ldots, y_n$?"
   ]
  },
  {
   "cell_type": "markdown",
   "metadata": {
    "slideshow": {
     "slide_type": "slide"
    }
   },
   "source": [
    "## Autoregressive model - AR(p)\n",
    "The autoregressive model specifies that the output variable depends linearly on its own previous values: \n",
    "\n",
    "$$ Y_t =  \\beta_0 + \\beta_1Y_{t-1} + \\beta_2Y_{t-2} + \\ldots + \\beta_pY_{t-p} + \\epsilon_t$$\n",
    "\n",
    "Where $\\epsilon_t \\overset{\\text{i.i.d}}{\\sim} N(0,1)$ is a white noise sequence."
   ]
  },
  {
   "cell_type": "code",
   "execution_count": null,
   "metadata": {
    "slideshow": {
     "slide_type": "slide"
    },
    "tags": [
     "to_remove"
    ]
   },
   "outputs": [],
   "source": [
    "# AR(1) example\n",
    "sales_df = pd.read_csv(\"data/weekly-sales.csv\")\n",
    "\n",
    "fig, ax = plt.subplots()\n",
    "ax.plot(sales_df[\"week\"], sales_df[\"volume\"])\n",
    "ax.scatter(sales_df[\"week\"], sales_df[\"volume\"])\n",
    "ax.set_title(\"Weekly sales\")\n",
    "ax.set_xlabel(\"Week\")\n",
    "ax.set_ylabel(\"Sales volume\")\n",
    "plt.show()"
   ]
  },
  {
   "cell_type": "code",
   "execution_count": null,
   "metadata": {
    "slideshow": {
     "slide_type": "subslide"
    },
    "tags": [
     "to_remove"
    ]
   },
   "outputs": [],
   "source": [
    "y_prev = sales_df[\"volume\"].shift(1)[1:]\n",
    "y_next = sales_df[\"volume\"][1:]\n",
    "\n",
    "model = sm.OLS(y_next, sm.add_constant(y_prev)).fit()\n",
    "\n",
    "fig, ax = plt.subplots()\n",
    "ax.plot(y_prev, model.predict(sm.add_constant(y_prev)), \n",
    "    color=\"black\", label=\"Regression line\")\n",
    "ax.scatter(y_prev, y_next, label = \"Observations\")\n",
    "ax.set_title(\"Autoregression at lag 1\")\n",
    "ax.set_xlabel(\"$y_{t-1}$\")\n",
    "ax.set_ylabel(\"$y_{t}$\")\n",
    "ax.legend()\n",
    "plt.show()\n",
    "\n",
    "print(\"R-squared:\", round(model.rsquared, 3))"
   ]
  },
  {
   "cell_type": "markdown",
   "metadata": {
    "slideshow": {
     "slide_type": "slide"
    }
   },
   "source": [
    "# Moving Average Model - MA(q)\n",
    "\n",
    "The moving-average model specifies that the output variable depends linearly on the current and past values of the white noise terms:\n",
    "\n",
    "$$Y_t = \\mu + \\theta_1\\epsilon_{t-1} + \\theta_2\\epsilon_{t-2} + \\ldots + \\theta_q\\epsilon_{t-q} + \\epsilon_t$$\n",
    "\n",
    "Where $\\mu$ is the mean of the series and $\\epsilon_t$ a white noise terms.\n",
    "\n",
    "Rather than using past values of the forecast variable in a regression, a moving average model uses past forecast errors in a regression-like model. We do not observe the values of  \n",
    "$\\epsilon_t$, so it **is not** really a regression in the usual sense."
   ]
  },
  {
   "cell_type": "code",
   "execution_count": null,
   "metadata": {
    "slideshow": {
     "slide_type": "slide"
    }
   },
   "outputs": [],
   "source": [
    "# Example moving average series\n",
    "N = 60\n",
    "errors = norm.rvs(size=N, scale=2)\n",
    "mu = 10\n",
    "y1 = np.repeat(mu, N)  # MA(1)\n",
    "y3 = np.repeat(mu, N)  # MA(3)\n",
    "for t in range(2, N):\n",
    "    y1[t] = mu + 1.5 * errors[t - 1] + errors[t]\n",
    "    y3[t] = mu + 1 * errors[t - 3] + 1.5 * errors[t - 2] + \\\n",
    "            2 * errors[t - 1] + errors[t]"
   ]
  },
  {
   "cell_type": "code",
   "execution_count": null,
   "metadata": {
    "slideshow": {
     "slide_type": "fragment"
    },
    "tags": [
     "to_remove"
    ]
   },
   "outputs": [],
   "source": [
    "fig, ax = plt.subplots(1, 2, figsize=(10,5))\n",
    "ax[0].plot(y1[1:])\n",
    "ax[0].set_title(\"Simulated MA(1) process\")\n",
    "\n",
    "ax[1].plot(y3[2:])\n",
    "ax[1].set_title(\"Simulated MA(3) process\")\n",
    "\n",
    "plt.show()"
   ]
  },
  {
   "cell_type": "markdown",
   "metadata": {
    "slideshow": {
     "slide_type": "slide"
    }
   },
   "source": [
    "# AR(p) and MA(q) Model Assumptions\n",
    "\n",
    "When workting with $AR(p)$ and $MA(q)$ models we assume that the time series $Y_t$ is **(weakly) stationary** i.e.\n",
    "- The mean $\\mathbb{E}(Y_t) = \\mu$ is constant for all $t$\n",
    "- The variance $Var(Y_t)$ is the same for all $t$\n",
    "- The covariance $Var(Y_t, Y_{t-k}) = \\rho_k$ is the same for each lag $k$\n",
    "\n",
    "In practice, this means that no trend or seasonality is present in our time series. We will deal with those later.\n",
    "See below examples of stationary and non-stationary time series."
   ]
  },
  {
   "cell_type": "code",
   "execution_count": null,
   "metadata": {
    "slideshow": {
     "slide_type": "subslide"
    }
   },
   "outputs": [],
   "source": [
    "N = 150\n",
    "errors = norm.rvs(size=N, scale=5)\n",
    "mu = 1\n",
    "y = np.zeros((N, 4))\n",
    "for t in range(1, N):\n",
    "    y[t][0] = mu + errors[t] # Stationary time series\n",
    "    y[t][1] = t / 2 + errors[t] # Linear trend\n",
    "    y[t][2] = mu + t * errors[t] # Increasing varianve\n",
    "    y[t][3] = 15 * np.sin(t / 10) + errors[t] # Seasonality"
   ]
  },
  {
   "cell_type": "code",
   "execution_count": null,
   "metadata": {
    "slideshow": {
     "slide_type": "subslide"
    },
    "tags": [
     "to_remove"
    ]
   },
   "outputs": [],
   "source": [
    "fig, ax = plt.subplots(2, 2, figsize=(12, 6))\n",
    "ax[0][0].plot(y[1:, 0], color=\"C2\")\n",
    "ax[0][0].set_title(\"Stationary series \\n Constant mean and variance\")\n",
    "\n",
    "ax[0][1].plot(y[1:, 1], color=\"C3\")\n",
    "ax[0][1].set_title(\"Non-Stationary series \\n Linear trend\")\n",
    "\n",
    "ax[1][0].plot(y[1:, 2], color=\"C3\")\n",
    "ax[1][0].set_title(\"Non-Stationary series \\n Increasing variance\")\n",
    "\n",
    "ax[1][1].plot(y[1:, 3], color=\"C3\")\n",
    "ax[1][1].set_title(\"Non-Stationary series \\n Seasonality\")\n",
    "plt.subplots_adjust(hspace=0.4)"
   ]
  },
  {
   "cell_type": "markdown",
   "metadata": {
    "slideshow": {
     "slide_type": "slide"
    }
   },
   "source": [
    "## How to recognise $AR(p)$ and $MA(q)$ processes ?\n",
    "\n",
    "#### Autocorrelation ACF\n",
    "\n",
    "$$\\text{ACF}_k = Corr(Y_t, Y_{t-k})$$\n",
    "\n",
    "**$MA(p)$:** Autocorrelations are zero for lag $k > p$\n",
    "\n",
    "#### Parital Autocorrelation PACF\n",
    "\n",
    "$$\\text{PACF}_k = Corr(Y_t, Y_{t-k} \\ | \\ Y_{t-1}, \\ldots, Y_{t-k+1})$$\n",
    "\n",
    "**$AR(p)$:** Partialautocorrelations are zero for lag $k > p$\n"
   ]
  },
  {
   "cell_type": "code",
   "execution_count": null,
   "metadata": {
    "slideshow": {
     "slide_type": "subslide"
    },
    "tags": [
     "to_remove"
    ]
   },
   "outputs": [],
   "source": [
    "def plot_acf_pacf(y, title=None, **kwargs):\n",
    "    fig, ax = plt.subplots(1, 2, figsize=(10, 5))\n",
    "    sm.graphics.tsa.plot_pacf(y, ax=ax[0], method=\"ywm\", **kwargs)\n",
    "    sm.graphics.tsa.plot_acf(y, ax=ax[1], **kwargs)\n",
    "    if title:\n",
    "        fig.suptitle(title)\n",
    "    plt.show()\n",
    "\n",
    "N = 365\n",
    "np.random.seed(3)\n",
    "ar2 = sm.tsa.arma_generate_sample([1, -0.2, -0.4], [1], nsample=N, scale=1) #AR(2)\n",
    "ma1 = sm.tsa.arma_generate_sample([1], [1, -0.6], nsample=N, scale=1) #MA(1)\n",
    "\n",
    "plot_acf_pacf(ar2, \"AR(2) simulated process\")"
   ]
  },
  {
   "cell_type": "code",
   "execution_count": null,
   "metadata": {
    "slideshow": {
     "slide_type": "subslide"
    },
    "tags": [
     "to_remove"
    ]
   },
   "outputs": [],
   "source": [
    "plot_acf_pacf(ma1, \"MA(1) simulated process\")"
   ]
  },
  {
   "cell_type": "markdown",
   "metadata": {
    "slideshow": {
     "slide_type": "slide"
    }
   },
   "source": [
    "# What to do if the series is not stationary?"
   ]
  },
  {
   "cell_type": "markdown",
   "metadata": {
    "slideshow": {
     "slide_type": "subslide"
    }
   },
   "source": [
    "## Differencing - solution for removing trend and seasonality.\n",
    "\n",
    "Suppose that $Y_t$ is a time series with a linear trend, i.e.:\n",
    "\n",
    "$$Y_t = \\mu + \\alpha t + Z_t$$\n",
    "\n",
    "Where $Z_t$ is a stationary process. Instead of modelling $Y_t$ we can look at \n",
    "$$\\tilde{Y_t} = Y_t - Y_{t-1} = \\alpha + Z_t - Z_{t-1}$$ \n",
    "Then $\\tilde{Y_t}$ is a stationary time series.\n",
    "\n",
    "To remove a quadratic trend we can differentiate the series twice\n",
    "\n",
    "If a sesonal effect of length $m$ is present, e.g. 12-month cycle, weekly cycle etc. we should consider a series differenced at lag m\n",
    "$$\\tilde{Y_t} = Y_t - Y_{t-m}$$ \n",
    "\n",
    "**Note:** The order of difference operations does not matter."
   ]
  },
  {
   "cell_type": "code",
   "execution_count": null,
   "metadata": {
    "slideshow": {
     "slide_type": "subslide"
    }
   },
   "outputs": [],
   "source": [
    "# Generate series\n",
    "N = 365\n",
    "errors = norm.rvs(size=N, scale=20)\n",
    "y1 = np.arange(N) + errors  # linear trend\n",
    "y2 = 0.005 * np.power(np.arange(N), 2) + errors  # quadratic trend\n",
    "y3 = np.sin(np.arange(0, 365) % 30 / 10) * 80 + errors  # monthly cycle\n",
    "\n",
    "# Apply diferencing\n",
    "x1 = pd.Series(y1).diff()\n",
    "x2 = pd.Series(y2).diff().diff()\n",
    "x3 = pd.Series(y3).diff(30)"
   ]
  },
  {
   "cell_type": "code",
   "execution_count": null,
   "metadata": {
    "slideshow": {
     "slide_type": "subslide"
    },
    "tags": [
     "to_remove"
    ]
   },
   "outputs": [],
   "source": [
    "fig, ax = plt.subplots(3, 2, figsize=(12, 6))\n",
    "# Plot original series\n",
    "ax[0][0].plot(y1, color=\"C0\")\n",
    "ax[0][0].set_title(\"Linear trend\")\n",
    "ax[1][0].plot(y2, color=\"C1\")\n",
    "ax[1][0].set_title(\"Quadratic trend\")\n",
    "ax[2][0].plot(y3, color=\"C2\")\n",
    "ax[2][0].set_title(\"Monthly cycle\")\n",
    "\n",
    "# Plot differenced series\n",
    "ax[0][1].plot(x1, color=\"C0\")\n",
    "ax[0][1].set_title(\"Linear trend removed - diff(1)\")\n",
    "ax[1][1].plot(x2, color=\"C1\")\n",
    "ax[1][1].set_title(\"Quadratic trend removed - diff(1) twice\")\n",
    "ax[2][1].plot(x3, color=\"C2\")\n",
    "ax[2][1].set_title(\"Monthly cycle removed - diff(30)\")\n",
    "plt.subplots_adjust(hspace=0.5)\n",
    "plt.show()"
   ]
  },
  {
   "cell_type": "markdown",
   "metadata": {
    "slideshow": {
     "slide_type": "slide"
    }
   },
   "source": [
    "# Time for the fusion \n",
    "##  Autoregressive Integrated Moving Average Model\n",
    "## $AR + I + MA = ARIMA$ "
   ]
  },
  {
   "cell_type": "markdown",
   "metadata": {
    "slideshow": {
     "slide_type": "subslide"
    }
   },
   "source": [
    "$ARIMA$ model captures all the aproaches presented so far:\n",
    "\n",
    "- **AR**: Autoregression. A model that uses the dependent relationship between an observation and some number of lagged observations.\n",
    "- **I**: Integrated. The use of differencing of raw observations to make the time series stationary.\n",
    "- **MA**: Moving Average. A model that uses the dependency between an observation and a residual error from a moving average model applied to lagged observations."
   ]
  },
  {
   "cell_type": "markdown",
   "metadata": {
    "slideshow": {
     "slide_type": "fragment"
    }
   },
   "source": [
    "Each of these components are explicitly specified in the model as a parameter. A standard notation is used of $\\text{ARIMA}(p,d,q)$.\n",
    "\n",
    " - $p$ is the order (number of time lags) of the autoregressive model\n",
    " - $d$ is the degree of differencing (the number of times the data have had past values subtracted)\n",
    " - $q$ is the order of the moving-average model.\n",
    "\n",
    " $$Y_t = \\mu + \\beta_1Y_{t-1} + \\ldots + \\beta_pY_{t-p} + \\theta_1\\epsilon_{t-1} + \\ldots + \\theta_q\\epsilon_{t-q} + \\epsilon_t$$"
   ]
  },
  {
   "cell_type": "markdown",
   "metadata": {
    "slideshow": {
     "slide_type": "slide"
    }
   },
   "source": [
    "## ARIMA step by step guide\n",
    "\n",
    "1. Plot the data, identify unusual observations\n",
    "2. If necerssary, transform the series to stabilise the variance\n",
    "3. Select the model:\n",
    "    - If necessary difference the series to remove trend and seasonality\n",
    "    - Plot the ACF/PACF to and try to determine the candidate models\n",
    "    - Try the chosen models and compare fit statistics to choose the best one\n",
    "\n",
    "    OR\n",
    "    \n",
    "    - Use automatic selection algorithms to find the best fitting ARIMA model\n",
    "4. Fit the model and check the residuals\n",
    "5. Calculate the forecasts"
   ]
  },
  {
   "cell_type": "markdown",
   "metadata": {
    "slideshow": {
     "slide_type": "slide"
    }
   },
   "source": [
    "### Step 1: Plot the data"
   ]
  },
  {
   "cell_type": "code",
   "execution_count": null,
   "metadata": {
    "slideshow": {
     "slide_type": "fragment"
    }
   },
   "outputs": [],
   "source": [
    "df = pd.read_csv(\"data/airpassangers.csv\", parse_dates=True, index_col=0)\n",
    "df.columns = [\"passangers\"]\n",
    "df[\"passangers\"].plot()\n",
    "plt.title(\"Airline Passangers\")\n",
    "plt.show()"
   ]
  },
  {
   "cell_type": "markdown",
   "metadata": {
    "slideshow": {
     "slide_type": "slide"
    }
   },
   "source": [
    "### Step 2: Transform the data to remove heteroscedasticity"
   ]
  },
  {
   "cell_type": "code",
   "execution_count": null,
   "metadata": {
    "slideshow": {
     "slide_type": "fragment"
    }
   },
   "outputs": [],
   "source": [
    "np.log(df[\"passangers\"]).plot()\n",
    "plt.title(\"Log-transformed Airline Passangers\")\n",
    "plt.show()"
   ]
  },
  {
   "cell_type": "markdown",
   "metadata": {
    "slideshow": {
     "slide_type": "slide"
    }
   },
   "source": [
    "### Step 3: Model Selection"
   ]
  },
  {
   "cell_type": "code",
   "execution_count": null,
   "metadata": {
    "slideshow": {
     "slide_type": "fragment"
    }
   },
   "outputs": [],
   "source": [
    "log_passangers = np.log(df[\"passangers\"])\n",
    "y = log_passangers.diff(12)[12:]\n",
    "plot_acf_pacf(y)"
   ]
  },
  {
   "cell_type": "code",
   "execution_count": null,
   "metadata": {
    "slideshow": {
     "slide_type": "subslide"
    }
   },
   "outputs": [],
   "source": [
    "y.plot()\n",
    "plt.title(\"Log-transformed and differenced at lag 12 time series\")\n",
    "plt.show()"
   ]
  },
  {
   "cell_type": "code",
   "execution_count": null,
   "metadata": {
    "slideshow": {
     "slide_type": "subslide"
    }
   },
   "outputs": [],
   "source": [
    "# Compare our selection with the auto_arima\n",
    "auto_model = pmd.auto_arima(y, trace=False, seasonal=False)\n",
    "auto_model"
   ]
  },
  {
   "cell_type": "markdown",
   "metadata": {
    "slideshow": {
     "slide_type": "slide"
    }
   },
   "source": [
    "### Step 4: Fit the model and perform model diagnostics"
   ]
  },
  {
   "cell_type": "code",
   "execution_count": null,
   "metadata": {
    "slideshow": {
     "slide_type": "fragment"
    }
   },
   "outputs": [],
   "source": [
    "# Fit the selected model\n",
    "model_fit = ARIMA(y, order=(2, 0, 0)).fit()\n",
    "results = model_fit.get_prediction()\n",
    "conf_int = results.conf_int(alpha=0.05).values\n",
    "fitted = results.predicted_mean\n",
    "model_fit.summary()"
   ]
  },
  {
   "cell_type": "code",
   "execution_count": null,
   "metadata": {
    "slideshow": {
     "slide_type": "subslide"
    }
   },
   "outputs": [],
   "source": [
    "model_fit.plot_diagnostics(figsize=(15, 8))\n",
    "plt.show()"
   ]
  },
  {
   "cell_type": "markdown",
   "metadata": {
    "slideshow": {
     "slide_type": "slide"
    }
   },
   "source": [
    "### Step 5: Fitted values and forecasting"
   ]
  },
  {
   "cell_type": "code",
   "execution_count": null,
   "metadata": {
    "slideshow": {
     "slide_type": "fragment"
    },
    "tags": [
     "to_remove"
    ]
   },
   "outputs": [],
   "source": [
    "plt.plot(y.index, fitted, label=\"fitted\")\n",
    "plt.fill_between(y.index, conf_int[:,0], conf_int[:, 1], \n",
    "    alpha=0.2, label=\"95% confidence interval\")\n",
    "plt.plot(y, label=\"actual\")\n",
    "plt.title(\"ARIMA(2,0,0) Acutal vs. Fitted\")\n",
    "plt.legend()\n",
    "plt.show()"
   ]
  },
  {
   "cell_type": "code",
   "execution_count": null,
   "metadata": {
    "slideshow": {
     "slide_type": "subslide"
    },
    "tags": [
     "to_remove"
    ]
   },
   "outputs": [],
   "source": [
    "plt.plot(log_passangers.index, revert_diff(fitted, log_passangers[:12], 12), label=\"fitted\")\n",
    "plt.plot(log_passangers, label=\"actual\")\n",
    "plt.title(\"Log-transformed Airline Passangers \\n ARIMA(2,0,0) Actual vs. Fitted\")\n",
    "plt.legend()\n",
    "plt.show()"
   ]
  },
  {
   "cell_type": "code",
   "execution_count": null,
   "metadata": {
    "slideshow": {
     "slide_type": "subslide"
    },
    "tags": [
     "to_remove"
    ]
   },
   "outputs": [],
   "source": [
    "forecast = np.concatenate([fitted, model_fit.forecast(36)])\n",
    "date_index = pd.date_range(fitted.index[0], periods=len(fitted)+36, freq='MS')\n",
    "plt.plot(date_index, forecast, label=\"ARIMA(2,0,0)\")\n",
    "plt.axvspan(fitted.index[-1], date_index[-1], alpha=0.2, color='C2', label=\"Forecast period\")\n",
    "plt.title(\"Differenced and log-transformed timeseris \\n ARIMA(2,0,0) Forecast\")\n",
    "plt.legend()\n",
    "plt.show()"
   ]
  },
  {
   "cell_type": "code",
   "execution_count": null,
   "metadata": {
    "slideshow": {
     "slide_type": "subslide"
    },
    "tags": [
     "to_remove"
    ]
   },
   "outputs": [],
   "source": [
    "date_index = pd.date_range(log_passangers.index[0], periods=len(fitted)+36+12, freq='MS')\n",
    "plt.plot(date_index, revert_diff(forecast, log_passangers[:12], 12), label=\"ARIMA(2,0,0)\")\n",
    "plt.plot(log_passangers, label=\"Actual\")\n",
    "plt.axvspan(fitted.index[-1], date_index[-1], alpha=0.2, color='C2', label=\"Forecast period\")\n",
    "plt.title(\"Log-transformed Airline Passangers \\n ARIMA(2,0,0) Forecast\")\n",
    "plt.legend()\n",
    "plt.show()"
   ]
  },
  {
   "cell_type": "code",
   "execution_count": null,
   "metadata": {
    "slideshow": {
     "slide_type": "subslide"
    },
    "tags": [
     "to_remove"
    ]
   },
   "outputs": [],
   "source": [
    "forecast = np.exp(revert_diff(forecast, log_passangers[:12], 12))\n",
    "plt.plot(date_index, forecast, label=\"ARIMA(2,0,0)\")\n",
    "plt.plot(df[\"passangers\"], label=\"Actual\")\n",
    "plt.axvspan(fitted.index[-1], date_index[-1], alpha=0.2, color='C2', label=\"Forecast period\")\n",
    "plt.title(\"Airline Passangers \\n ARIMA(2,0,0) Forecast\")\n",
    "plt.legend()\n",
    "plt.show()"
   ]
  },
  {
   "cell_type": "markdown",
   "metadata": {
    "slideshow": {
     "slide_type": "slide"
    }
   },
   "source": [
    "# Time to Practice: Algorithmic Trading\n",
    "\n",
    "Its now time to practice and test what we've learnt in time series modelling by developing a couple of algorithmic trading strategies! Our plan of action will be:\n",
    "\n",
    "1. Fetch, clean, and transform our financial time series data \n",
    "2. Use our ARIMA modelling skills to forecast stock returns\n",
    "3. Implement and backtest simple trading rules to analyse their performance\n"
   ]
  },
  {
   "cell_type": "markdown",
   "metadata": {
    "slideshow": {
     "slide_type": "slide"
    }
   },
   "source": [
    "# Fetching our data\n",
    "\n"
   ]
  },
  {
   "cell_type": "code",
   "execution_count": null,
   "metadata": {},
   "outputs": [],
   "source": [
    "# Retrieving stock price data \n",
    "stocks = ['GOOG', 'AAPL', 'FB', 'AMZN', 'GE', 'NFLX', 'JPM']\n",
    "          \n",
    "data = web.DataReader(stocks, 'yahoo', start='2020/11/10', end='2021/11/10')\n",
    "data.head()"
   ]
  },
  {
   "cell_type": "code",
   "execution_count": null,
   "metadata": {},
   "outputs": [],
   "source": [
    "# Select Google closing data\n",
    "prices = data['Adj Close']['GOOG']\n",
    "\n",
    "# Plot Google price data time series\n"
   ]
  },
  {
   "cell_type": "code",
   "execution_count": null,
   "metadata": {},
   "outputs": [],
   "source": [
    "# Plot ACF and PACF of time series. What do you conclude? "
   ]
  },
  {
   "cell_type": "code",
   "execution_count": null,
   "metadata": {},
   "outputs": [],
   "source": [
    "# Get stock returns\n",
    "\n",
    "# Plot stock returns\n",
    "fig, ax = plt.subplots()\n",
    "ax.plot(returns)\n",
    "ax.set_title(\"GOOG Stock Returns\")\n",
    "ax.set_xlabel(\"Date\")\n",
    "ax.set_ylabel(\"Change in Price (%)\")\n",
    "plt.show()"
   ]
  },
  {
   "cell_type": "code",
   "execution_count": null,
   "metadata": {},
   "outputs": [],
   "source": [
    "plot_acf_pacf(returns[1:])"
   ]
  },
  {
   "cell_type": "markdown",
   "metadata": {},
   "source": [
    "# What model do you think is suitable for this stock price?\n",
    "\n"
   ]
  },
  {
   "cell_type": "markdown",
   "metadata": {},
   "source": [
    "# Our trading strategy\n",
    "- Start out with a simple strategy\n",
    "    - Predict returns $\\hat{r}_t$\n",
    "    - Buy if prediction is above $r^{\\text{buy}}$, sell if it is below $r^{\\text{sell}}$\n",
    "\n",
    "\n"
   ]
  },
  {
   "cell_type": "code",
   "execution_count": null,
   "metadata": {},
   "outputs": [],
   "source": [
    "def arima_trading_backtest(prices, order, buy_ret=0.01, sell_ret=-0.01, train_size=0.3, verbose=True):\n",
    "    # Preparing returns data\n",
    "    p, d, q = order\n",
    "    returns = prices.pct_change()[1:].copy()\n",
    "    prices = prices[1:]\n",
    "\n",
    "    # Train-test split and initial model training\n",
    "    N = returns.shape[0]\n",
    "    train = returns.head(round(N*train_size))\n",
    "    test = returns.tail(N-round(N*train_size))\n",
    "    model = ARIMA(train, order=(p,d-1,q)).fit()\n",
    "\n",
    "    # Trading simulation\n",
    "    holding = False\n",
    "    balance = 100\n",
    "    preds = []\n",
    "    trades = []\n",
    "    for t in test.index:\n",
    "        i = prices.index.get_loc(t)\n",
    "        # Forecast\n",
    "        pred = model.forecast()[i]\n",
    "        preds.append(pred)\n",
    "        # Buying and selling conditions\n",
    "        trade = False\n",
    "\n",
    "        # Buy condition \n",
    "\n",
    "        # Sell condition\n",
    "        \n",
    "        # Verbose prints\n",
    "        if trade and verbose:\n",
    "            if not holding:  \n",
    "                print(f'Sold @ ${sell_price}, {prices.index[i-1]}')\n",
    "                print(f'Overall trade gain: {100*profit}%')\n",
    "            else:   \n",
    "                print(f'Bought @ ${buy_price}, {prices.index[i-1]}')\n",
    "            print(f'Predicted return: {pred}')\n",
    "            print(f'Actual return: {returns[t]}')\n",
    "            print('')\n",
    "\n",
    "        # Re-train model\n",
    "\n",
    "    # Present-value of portfolio if still holding     \n",
    "    if holding:\n",
    "        sell_price = prices[t]\n",
    "        profit = (sell_price - buy_price)/buy_price\n",
    "        trades.append(('sell+',t) if profit>0 else ('sell-',t))\n",
    "        balance += balance*(profit)\n",
    "        \n",
    "    print(f'Overall Balance: ${balance}')\n",
    "    return pd.Series(preds, index=test.index), trades"
   ]
  },
  {
   "cell_type": "markdown",
   "metadata": {},
   "source": [
    "# Trading with a simple ARIMA(1,1,0)\n",
    "\n"
   ]
  },
  {
   "cell_type": "code",
   "execution_count": null,
   "metadata": {},
   "outputs": [],
   "source": [
    "preds, trades = arima_trading_backtest(prices, order=(1,1,0))"
   ]
  },
  {
   "cell_type": "markdown",
   "metadata": {},
   "source": [
    "# Trading with an ARIMA(0,1,5)\n",
    "\n"
   ]
  },
  {
   "cell_type": "code",
   "execution_count": null,
   "metadata": {},
   "outputs": [],
   "source": [
    "preds, trades = arima_trading_backtest(prices, order=(0,1,5))"
   ]
  },
  {
   "cell_type": "code",
   "execution_count": null,
   "metadata": {},
   "outputs": [],
   "source": [
    "# Plotting prices\n",
    "fig, ax = plt.subplots()\n",
    "ax.plot(prices) \n",
    "for trade, t in trades:\n",
    "    plt.axvline(x=t, color= 'g' if trade=='sell+' else 'r' if trade=='sell-' else 'k' , linestyle='--')\n",
    "\n",
    "ax.set_title(\"GOOG Stock Price: ARIMA Algorithmic Trading Backtest\")\n",
    "ax.set_xlabel(\"Date\")\n",
    "ax.set_ylabel(\"Price ($)\")\n",
    "plt.show()"
   ]
  },
  {
   "cell_type": "code",
   "execution_count": null,
   "metadata": {},
   "outputs": [],
   "source": [
    "# Plotting prices\n",
    "fig, ax = plt.subplots()\n",
    "ax.plot(returns[1:])\n",
    "ax.plot(preds)\n",
    "for trade, t in trades:\n",
    "    plt.axvline(x=t, color= 'g' if trade=='sell+' else 'r' if trade=='sell-' else 'k' , linestyle='--')\n",
    "\n",
    "ax.set_title(\"GOOG Stock Returns: ARIMA Algorithmic Trading Backtest\")\n",
    "ax.set_xlabel(\"Date\")\n",
    "ax.set_ylabel(\"Price ($)\")\n",
    "plt.show()"
   ]
  },
  {
   "cell_type": "markdown",
   "metadata": {},
   "source": [
    "# Does our strategy generalize?\n",
    "\n"
   ]
  },
  {
   "cell_type": "code",
   "execution_count": null,
   "metadata": {},
   "outputs": [],
   "source": [
    "# Try out this strategy for several assest? what do you find?"
   ]
  },
  {
   "cell_type": "markdown",
   "metadata": {},
   "source": [
    "# What else can we do?\n",
    "- Complicate the strategy\n",
    "    - We know when to buy a stock, but how much should we buy?\n",
    "    - Can we buy more? \n",
    "    - Can we short?\n",
    "- Hyperparameter optimization\n",
    "    - What are the best buy/sell thresholds? \n",
    "    - Try out grid search \n",
    "    - Feeling fancy? Give [Bayesian optimization](https://github.com/fmfn/BayesianOptimization) a go!\n",
    "- Asset classes\n",
    "    - Which asset classes does the model work best for? \n",
    "    - Can you use a different model on each class? What about each asset?\n",
    "- Confidence is key\n",
    "    - Can you use other moment estimates to help in your trading?\n",
    "- Be careful when backtesting\n",
    "    - Make sure to avoid data leakege and look-ahead bias\n",
    "    - Careful with overcooking your model\n",
    "    - Don't forget about transaction costs  \n",
    "    - Use common sense (sometimes the least common of all)      \n",
    "\n"
   ]
  }
 ],
 "metadata": {
  "celltoolbar": "Slideshow",
  "interpreter": {
   "hash": "563e1f7b1530d0d145fbf1c2e1c18f87ad133d4244dba0132bd2ab06f40a0878"
  },
  "kernelspec": {
   "display_name": "Python 3.8.10 64-bit ('interstellar-env': conda)",
   "name": "python3"
  },
  "language_info": {
   "codemirror_mode": {
    "name": "ipython",
    "version": 3
   },
   "file_extension": ".py",
   "mimetype": "text/x-python",
   "name": "python",
   "nbconvert_exporter": "python",
   "pygments_lexer": "ipython3",
   "version": "3.8.10"
  }
 },
 "nbformat": 4,
 "nbformat_minor": 2
}
